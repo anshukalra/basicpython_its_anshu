{
 "cells": [
  {
   "cell_type": "code",
   "execution_count": 1,
   "id": "bf5f986a",
   "metadata": {},
   "outputs": [
    {
     "name": "stdout",
     "output_type": "stream",
     "text": [
      "hello anshika\n"
     ]
    }
   ],
   "source": [
    "print('hello anshika')"
   ]
  },
  {
   "cell_type": "code",
   "execution_count": 2,
   "id": "2d592d28",
   "metadata": {},
   "outputs": [
    {
     "name": "stdout",
     "output_type": "stream",
     "text": [
      "hello anshika\n"
     ]
    }
   ],
   "source": [
    "print(\"hello anshika\")"
   ]
  },
  {
   "cell_type": "code",
   "execution_count": 3,
   "id": "86348dbe",
   "metadata": {},
   "outputs": [
    {
     "name": "stdout",
     "output_type": "stream",
     "text": [
      "hello \n",
      "anshika\n"
     ]
    }
   ],
   "source": [
    "print('''hello \n",
    "anshika''')"
   ]
  },
  {
   "cell_type": "code",
   "execution_count": 4,
   "id": "3d1aad5a",
   "metadata": {},
   "outputs": [
    {
     "name": "stdout",
     "output_type": "stream",
     "text": [
      "hello \n",
      "anshika\n"
     ]
    }
   ],
   "source": [
    "print(\"\"\"hello \n",
    "anshika\"\"\")"
   ]
  },
  {
   "cell_type": "code",
   "execution_count": 5,
   "id": "14abd4e8",
   "metadata": {},
   "outputs": [
    {
     "name": "stdout",
     "output_type": "stream",
     "text": [
      "123\n"
     ]
    }
   ],
   "source": [
    "print('123')#str--->"
   ]
  },
  {
   "cell_type": "code",
   "execution_count": 6,
   "id": "62cfc628",
   "metadata": {},
   "outputs": [
    {
     "name": "stdout",
     "output_type": "stream",
     "text": [
      "123\n"
     ]
    }
   ],
   "source": [
    "print(123)#int---"
   ]
  }
 ],
 "metadata": {
  "kernelspec": {
   "display_name": "Python 3 (ipykernel)",
   "language": "python",
   "name": "python3"
  },
  "language_info": {
   "codemirror_mode": {
    "name": "ipython",
    "version": 3
   },
   "file_extension": ".py",
   "mimetype": "text/x-python",
   "name": "python",
   "nbconvert_exporter": "python",
   "pygments_lexer": "ipython3",
   "version": "3.9.12"
  }
 },
 "nbformat": 4,
 "nbformat_minor": 5
}
