{
 "cells": [
  {
   "cell_type": "code",
   "execution_count": 1,
   "id": "1ff12442",
   "metadata": {},
   "outputs": [
    {
     "name": "stdout",
     "output_type": "stream",
     "text": [
      "bonus amount = 1500.0\n"
     ]
    }
   ],
   "source": [
    "exp=6\n",
    "salary=30000\n",
    "if exp>5:\n",
    "    bonus=salary*5/100\n",
    "    print(\"bonus amount =\",bonus)\n",
    "else:\n",
    "    print(\"no bonus\")"
   ]
  },
  {
   "cell_type": "code",
   "execution_count": 2,
   "id": "559cdb2f",
   "metadata": {},
   "outputs": [
    {
     "name": "stdout",
     "output_type": "stream",
     "text": [
      "enter your exp.7\n",
      "enter your salary12000\n",
      "bonus amount = 600.0\n"
     ]
    }
   ],
   "source": [
    "exp=int(input(\"enter your exp.\"))\n",
    "salary=int(input(\"enter your salary\"))\n",
    "if exp>5:\n",
    "    bonus=salary*5/100\n",
    "    print(\"bonus amount =\",bonus)\n",
    "else:\n",
    "    print(\"no bonus\")"
   ]
  },
  {
   "cell_type": "code",
   "execution_count": 4,
   "id": "00f06f09",
   "metadata": {},
   "outputs": [
    {
     "name": "stdout",
     "output_type": "stream",
     "text": [
      "enter your exp.8\n",
      "enter your salary76800\n",
      "total salary\n",
      "bonus amount = 3840.0\n"
     ]
    }
   ],
   "source": [
    "exp=int(input(\"enter your exp.\"))\n",
    "salary=int(input(\"enter your salary\"))\n",
    "if exp>5:\n",
    "    bonus=salary*5/100\n",
    "    totalsalary=salary+bonus\n",
    "    print(\"total salary\")\n",
    "    print(\"bonus amount =\",bonus)\n",
    "else:\n",
    "    print(\"no bonus\")"
   ]
  },
  {
   "cell_type": "code",
   "execution_count": 9,
   "id": "d1199b18",
   "metadata": {},
   "outputs": [
    {
     "name": "stdout",
     "output_type": "stream",
     "text": [
      "square\n"
     ]
    }
   ],
   "source": [
    "l=2\n",
    "b=2\n",
    "a=2\n",
    "area_of_square=a**2\n",
    "area_of_rectangle=l*b\n",
    "if area_of_rectangle == area_of_square:\n",
    "    print(\"square\")\n",
    "else:\n",
    "    print(\"not square\")"
   ]
  },
  {
   "cell_type": "code",
   "execution_count": 13,
   "id": "ad4fbe14",
   "metadata": {},
   "outputs": [
    {
     "name": "stdout",
     "output_type": "stream",
     "text": [
      "a\n"
     ]
    }
   ],
   "source": [
    "a=7\n",
    "b=6\n",
    "c=5\n",
    "if a>b and a>c:\n",
    "    print(\"a\")\n",
    "elif b>a and b>c:\n",
    "    print(\"b\")\n",
    "elif c>a and c>b:\n",
    "    print(\"c\")"
   ]
  },
  {
   "cell_type": "code",
   "execution_count": 15,
   "id": "c17784c6",
   "metadata": {},
   "outputs": [
    {
     "name": "stdout",
     "output_type": "stream",
     "text": [
      "enter number71\n",
      "enter number79\n",
      "enter number64\n",
      "79\n"
     ]
    }
   ],
   "source": [
    "a=int(input(\"enter number\"))\n",
    "b=int(input(\"enter number\"))\n",
    "c=int(input(\"enter number\"))\n",
    "if a>b and a>c:\n",
    "    print(a)\n",
    "elif b>a and b>c:\n",
    "    print(b)\n",
    "elif c>a and c>b:\n",
    "    print(c)"
   ]
  },
  {
   "cell_type": "code",
   "execution_count": 16,
   "id": "b221c329",
   "metadata": {},
   "outputs": [
    {
     "name": "stdout",
     "output_type": "stream",
     "text": [
      "enter number76\n",
      "enter number76\n",
      "enter number76\n",
      "invalid input\n"
     ]
    }
   ],
   "source": [
    "a=int(input(\"enter number\"))\n",
    "b=int(input(\"enter number\"))\n",
    "c=int(input(\"enter number\"))\n",
    "if a>b and a>c:\n",
    "    print(a)\n",
    "elif b>a and b>c:\n",
    "    print(b)\n",
    "elif c>a and c>b:\n",
    "    print(c)\n",
    "else:\n",
    "    print(\"invalid input\")"
   ]
  },
  {
   "cell_type": "code",
   "execution_count": 17,
   "id": "37d66141",
   "metadata": {},
   "outputs": [
    {
     "name": "stdout",
     "output_type": "stream",
     "text": [
      "enter number11\n",
      "enter number74\n",
      "enter number79\n",
      "11\n"
     ]
    }
   ],
   "source": [
    "a=int(input(\"enter number\"))\n",
    "b=int(input(\"enter number\"))\n",
    "c=int(input(\"enter number\"))\n",
    "if a<b and a<c:\n",
    "    print(a)\n",
    "elif b<a and b<c:\n",
    "    print(b)\n",
    "elif c<a and c<b:\n",
    "    print(c)\n",
    "\n"
   ]
  },
  {
   "cell_type": "code",
   "execution_count": 21,
   "id": "616ad7a2",
   "metadata": {},
   "outputs": [
    {
     "name": "stdout",
     "output_type": "stream",
     "text": [
      "dicount amount = 10.0\n"
     ]
    }
   ],
   "source": [
    "quantity=27\n",
    "price=100*1\n",
    "if quantity>10:\n",
    "    discount=price*10/100\n",
    "    print(\"dicount amount =\",discount)\n",
    "else:\n",
    "    print(\"no dicount\")"
   ]
  }
 ],
 "metadata": {
  "kernelspec": {
   "display_name": "Python 3 (ipykernel)",
   "language": "python",
   "name": "python3"
  },
  "language_info": {
   "codemirror_mode": {
    "name": "ipython",
    "version": 3
   },
   "file_extension": ".py",
   "mimetype": "text/x-python",
   "name": "python",
   "nbconvert_exporter": "python",
   "pygments_lexer": "ipython3",
   "version": "3.9.12"
  }
 },
 "nbformat": 4,
 "nbformat_minor": 5
}
