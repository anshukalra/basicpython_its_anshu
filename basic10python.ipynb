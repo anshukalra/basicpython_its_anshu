{
 "cells": [
  {
   "cell_type": "markdown",
   "id": "38126b92",
   "metadata": {},
   "source": [
    "# loops"
   ]
  },
  {
   "cell_type": "code",
   "execution_count": 1,
   "id": "f548d672",
   "metadata": {},
   "outputs": [
    {
     "name": "stdout",
     "output_type": "stream",
     "text": [
      "0\n",
      "1\n",
      "2\n",
      "3\n",
      "4\n",
      "5\n",
      "6\n",
      "7\n",
      "8\n",
      "9\n"
     ]
    }
   ],
   "source": [
    "#for/while\n",
    "#range functions------>\n",
    "#syntax---> for variable in range(define the range):\n",
    "for i in range (10):\n",
    "    print(i)"
   ]
  },
  {
   "cell_type": "code",
   "execution_count": 3,
   "id": "7e0b7efb",
   "metadata": {},
   "outputs": [
    {
     "name": "stdout",
     "output_type": "stream",
     "text": [
      "2\n",
      "3\n",
      "4\n",
      "5\n",
      "6\n",
      "7\n"
     ]
    }
   ],
   "source": [
    "#print 2-8\n",
    "for i in range (2,8):\n",
    "    print(i)"
   ]
  },
  {
   "cell_type": "code",
   "execution_count": 16,
   "id": "84bd08c5",
   "metadata": {},
   "outputs": [
    {
     "name": "stdout",
     "output_type": "stream",
     "text": [
      "-10\n",
      "-9\n",
      "-8\n",
      "-7\n",
      "-6\n",
      "-5\n",
      "-4\n",
      "-3\n",
      "-2\n",
      "-1\n",
      "0\n",
      "1\n",
      "2\n",
      "3\n",
      "4\n",
      "5\n",
      "6\n",
      "7\n",
      "8\n",
      "9\n",
      "10\n"
     ]
    }
   ],
   "source": [
    "#wap to print number from -10 to 10\n",
    "for i in range (-10,11):\n",
    "      print(i)"
   ]
  },
  {
   "cell_type": "code",
   "execution_count": 12,
   "id": "2b1b0978",
   "metadata": {},
   "outputs": [
    {
     "name": "stdout",
     "output_type": "stream",
     "text": [
      "2\n",
      "4\n",
      "6\n",
      "8\n",
      "10\n",
      "12\n",
      "14\n",
      "16\n",
      "18\n"
     ]
    }
   ],
   "source": [
    "for i in range(2,20,2):\n",
    "    print(i)"
   ]
  },
  {
   "cell_type": "code",
   "execution_count": 18,
   "id": "42a18232",
   "metadata": {},
   "outputs": [
    {
     "name": "stdout",
     "output_type": "stream",
     "text": [
      "10\n",
      "9\n",
      "8\n",
      "7\n",
      "6\n",
      "5\n",
      "4\n",
      "3\n",
      "2\n",
      "1\n",
      "0\n",
      "-1\n",
      "-2\n",
      "-3\n",
      "-4\n",
      "-5\n",
      "-6\n",
      "-7\n",
      "-8\n",
      "-9\n",
      "-10\n"
     ]
    }
   ],
   "source": [
    "#wap to print a number from 10 to -10\n",
    "for i in range(10,-11,-1):\n",
    "    print(i)"
   ]
  },
  {
   "cell_type": "code",
   "execution_count": 59,
   "id": "b26d7c61",
   "metadata": {},
   "outputs": [
    {
     "name": "stdout",
     "output_type": "stream",
     "text": [
      "odd number---> 1\n",
      "even number---> 2\n",
      "odd number---> 3\n",
      "even number---> 4\n",
      "odd number---> 5\n",
      "even number---> 6\n",
      "odd number---> 7\n",
      "even number---> 8\n",
      "odd number---> 9\n",
      "even number---> 10\n",
      "odd number---> 11\n",
      "even number---> 12\n",
      "odd number---> 13\n",
      "even number---> 14\n",
      "odd number---> 15\n",
      "even number---> 16\n",
      "odd number---> 17\n",
      "even number---> 18\n",
      "odd number---> 19\n",
      "even number---> 20\n",
      "odd number---> 21\n",
      "even number---> 22\n",
      "odd number---> 23\n",
      "even number---> 24\n",
      "odd number---> 25\n",
      "even number---> 26\n",
      "odd number---> 27\n",
      "even number---> 28\n",
      "odd number---> 29\n",
      "even number---> 30\n",
      "odd number---> 31\n",
      "even number---> 32\n",
      "odd number---> 33\n",
      "even number---> 34\n",
      "odd number---> 35\n",
      "even number---> 36\n",
      "odd number---> 37\n",
      "even number---> 38\n",
      "odd number---> 39\n",
      "even number---> 40\n",
      "odd number---> 41\n",
      "even number---> 42\n",
      "odd number---> 43\n",
      "even number---> 44\n",
      "odd number---> 45\n",
      "even number---> 46\n",
      "odd number---> 47\n",
      "even number---> 48\n",
      "odd number---> 49\n",
      "even number---> 50\n",
      "odd number---> 51\n",
      "even number---> 52\n",
      "odd number---> 53\n",
      "even number---> 54\n",
      "odd number---> 55\n",
      "even number---> 56\n",
      "odd number---> 57\n",
      "even number---> 58\n",
      "odd number---> 59\n",
      "even number---> 60\n",
      "odd number---> 61\n",
      "even number---> 62\n",
      "odd number---> 63\n",
      "even number---> 64\n",
      "odd number---> 65\n",
      "even number---> 66\n",
      "odd number---> 67\n",
      "even number---> 68\n",
      "odd number---> 69\n",
      "even number---> 70\n",
      "odd number---> 71\n",
      "even number---> 72\n",
      "odd number---> 73\n",
      "even number---> 74\n",
      "odd number---> 75\n",
      "even number---> 76\n",
      "odd number---> 77\n",
      "even number---> 78\n",
      "odd number---> 79\n",
      "even number---> 80\n",
      "odd number---> 81\n",
      "even number---> 82\n",
      "odd number---> 83\n",
      "even number---> 84\n",
      "odd number---> 85\n",
      "even number---> 86\n",
      "odd number---> 87\n",
      "even number---> 88\n",
      "odd number---> 89\n",
      "even number---> 90\n",
      "odd number---> 91\n",
      "even number---> 92\n",
      "odd number---> 93\n",
      "even number---> 94\n",
      "odd number---> 95\n",
      "even number---> 96\n",
      "odd number---> 97\n",
      "even number---> 98\n",
      "odd number---> 99\n",
      "even number---> 100\n",
      "total even number is--> 50\n",
      "total odd number is--> 50\n"
     ]
    }
   ],
   "source": [
    "#wap a program to find  odd and even number from 1 -100\n",
    "#wap to count these number also.\n",
    "#check a string is palindrome.\n",
    "count_even=0\n",
    "count_odd=0\n",
    "for i in range(1,101):\n",
    "    if i%2==0:\n",
    "        print(\"even number--->\",i)\n",
    "        count_even =count_even +1\n",
    "    else:\n",
    "        print(\"odd number--->\",i)\n",
    "        count_odd =count_odd +1\n",
    "print(\"total even number is-->\",count_even)\n",
    "print(\"total odd number is-->\",count_odd)"
   ]
  },
  {
   "cell_type": "code",
   "execution_count": 48,
   "id": "071b2ccf",
   "metadata": {},
   "outputs": [
    {
     "name": "stdout",
     "output_type": "stream",
     "text": [
      "0\n",
      "2\n",
      "4\n",
      "6\n",
      "8\n",
      "10\n",
      "12\n",
      "14\n",
      "16\n",
      "18\n",
      "20\n"
     ]
    }
   ],
   "source": [
    "for i  in range(0,21,2):\n",
    "    print(i)\n",
    "    "
   ]
  },
  {
   "cell_type": "code",
   "execution_count": 57,
   "id": "f69c8719",
   "metadata": {},
   "outputs": [
    {
     "name": "stdout",
     "output_type": "stream",
     "text": [
      "olleh\n",
      "np\n"
     ]
    }
   ],
   "source": [
    "x='hello'\n",
    "y=''\n",
    "for i in x:\n",
    "    #print(x)\n",
    "    y=i+y\n",
    "print(y)\n",
    "if x==y:\n",
    "        print(\"palindrome\")\n",
    "else:\n",
    "        print(\"np\")"
   ]
  }
 ],
 "metadata": {
  "kernelspec": {
   "display_name": "Python 3 (ipykernel)",
   "language": "python",
   "name": "python3"
  },
  "language_info": {
   "codemirror_mode": {
    "name": "ipython",
    "version": 3
   },
   "file_extension": ".py",
   "mimetype": "text/x-python",
   "name": "python",
   "nbconvert_exporter": "python",
   "pygments_lexer": "ipython3",
   "version": "3.9.12"
  }
 },
 "nbformat": 4,
 "nbformat_minor": 5
}
