{
 "cells": [
  {
   "cell_type": "code",
   "execution_count": 1,
   "id": "138d4dfc",
   "metadata": {},
   "outputs": [
    {
     "name": "stdout",
     "output_type": "stream",
     "text": [
      "oldA\n",
      " youngC\n"
     ]
    }
   ],
   "source": [
    "a=90\n",
    "b=78\n",
    "c=45\n",
    "if a>b and a>c:\n",
    "    print(\"oldA\")\n",
    "elif b>a and b>c:\n",
    "     print(\"oldB\")\n",
    "elif c>a and c>b:\n",
    "     print(\"oldC\")\n",
    "        \n",
    "if a<b and a<c:\n",
    "    print(\"youngA\")\n",
    "elif b<a and b<c:\n",
    "     print(\"youngB\")\n",
    "elif c<a and c<b:\n",
    "     print(\" youngC\")"
   ]
  },
  {
   "cell_type": "code",
   "execution_count": 3,
   "id": "b9040521",
   "metadata": {},
   "outputs": [
    {
     "name": "stdout",
     "output_type": "stream",
     "text": [
      "enter the number of class attended25\n",
      "enter the number of class held100\n",
      "type y for med_cod and n for not_med_cony\n",
      "allowed\n"
     ]
    }
   ],
   "source": [
    "attended=int(input(\"enter the number of class attended\"))\n",
    "held=int(input(\"enter the number of class held\"))\n",
    "percentage=(attended*100)/held\n",
    "if percentage>75:\n",
    "    print(\"sit in exam\")\n",
    "else:\n",
    "    medical_cond=input(\"type y for med_cod and n for not_med_con\")\n",
    "    if medical_cond=='y':\n",
    "        print(\"allowed\")\n",
    "    else:\n",
    "            print(\"not allowed\")\n",
    "    #print(\"not allowed in exam\")"
   ]
  },
  {
   "cell_type": "code",
   "execution_count": null,
   "id": "2957e460",
   "metadata": {},
   "outputs": [],
   "source": []
  }
 ],
 "metadata": {
  "kernelspec": {
   "display_name": "Python 3 (ipykernel)",
   "language": "python",
   "name": "python3"
  },
  "language_info": {
   "codemirror_mode": {
    "name": "ipython",
    "version": 3
   },
   "file_extension": ".py",
   "mimetype": "text/x-python",
   "name": "python",
   "nbconvert_exporter": "python",
   "pygments_lexer": "ipython3",
   "version": "3.9.12"
  }
 },
 "nbformat": 4,
 "nbformat_minor": 5
}
