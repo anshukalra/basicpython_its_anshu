{
 "cells": [
  {
   "cell_type": "code",
   "execution_count": 1,
   "id": "9f47e617",
   "metadata": {},
   "outputs": [
    {
     "name": "stdout",
     "output_type": "stream",
     "text": [
      "34\n",
      "101\n",
      "124\n",
      "133\n"
     ]
    }
   ],
   "source": [
    "#wap to add all the number present in the list.\n",
    "x=[34,67,23,9]\n",
    "add=0\n",
    "for i in x:\n",
    "    add=add+i\n",
    "    print(add)"
   ]
  },
  {
   "cell_type": "code",
   "execution_count": 2,
   "id": "7de15af3",
   "metadata": {},
   "outputs": [
    {
     "name": "stdout",
     "output_type": "stream",
     "text": [
      "133\n"
     ]
    }
   ],
   "source": [
    "x=[34,67,23,9]\n",
    "add=0\n",
    "for i in x:\n",
    "    add=add+i\n",
    "print(add)"
   ]
  },
  {
   "cell_type": "code",
   "execution_count": 3,
   "id": "5f8c865b",
   "metadata": {},
   "outputs": [
    {
     "name": "stdout",
     "output_type": "stream",
     "text": [
      "similiar element 34\n"
     ]
    }
   ],
   "source": [
    "x=[34,67,8,45]\n",
    "y=[56,78,34,23]\n",
    "#wap to find similiar element in both the list?\n",
    "\n",
    "for i in x:\n",
    "    for j in y:\n",
    "        if i==j:\n",
    "            print(\"similiar element\",i)\n"
   ]
  },
  {
   "cell_type": "code",
   "execution_count": 6,
   "id": "e79383ba",
   "metadata": {},
   "outputs": [
    {
     "name": "stdout",
     "output_type": "stream",
     "text": [
      "[45, 67, 'python', 67, 45, 34]\n"
     ]
    }
   ],
   "source": [
    "#append\n",
    "#insert\n",
    "#pop\n",
    "#remove\n",
    "#reverse\n",
    "\n",
    "#append----->list data add in last\n",
    "x=[45,67,'python',67,45,34]\n",
    "print(x)"
   ]
  },
  {
   "cell_type": "code",
   "execution_count": 7,
   "id": "c8ebcee5",
   "metadata": {},
   "outputs": [],
   "source": [
    "x.append(0)"
   ]
  },
  {
   "cell_type": "code",
   "execution_count": 8,
   "id": "cda40bda",
   "metadata": {},
   "outputs": [
    {
     "data": {
      "text/plain": [
       "[45, 67, 'python', 67, 45, 34, 0]"
      ]
     },
     "execution_count": 8,
     "metadata": {},
     "output_type": "execute_result"
    }
   ],
   "source": [
    "x"
   ]
  },
  {
   "cell_type": "code",
   "execution_count": 9,
   "id": "a5e34eeb",
   "metadata": {},
   "outputs": [],
   "source": [
    "#insert------>\n",
    "x.insert(1,100)"
   ]
  },
  {
   "cell_type": "code",
   "execution_count": 10,
   "id": "f8fb908d",
   "metadata": {},
   "outputs": [
    {
     "data": {
      "text/plain": [
       "[45, 100, 67, 'python', 67, 45, 34, 0]"
      ]
     },
     "execution_count": 10,
     "metadata": {},
     "output_type": "execute_result"
    }
   ],
   "source": [
    "x"
   ]
  },
  {
   "cell_type": "code",
   "execution_count": 11,
   "id": "7ddd7344",
   "metadata": {},
   "outputs": [],
   "source": [
    "a=[45,89,78,76,88]"
   ]
  },
  {
   "cell_type": "code",
   "execution_count": 12,
   "id": "1a04c37d",
   "metadata": {},
   "outputs": [],
   "source": [
    "a.sort()"
   ]
  },
  {
   "cell_type": "code",
   "execution_count": 13,
   "id": "b894b127",
   "metadata": {},
   "outputs": [
    {
     "data": {
      "text/plain": [
       "[45, 76, 78, 88, 89]"
      ]
     },
     "execution_count": 13,
     "metadata": {},
     "output_type": "execute_result"
    }
   ],
   "source": [
    "a"
   ]
  },
  {
   "cell_type": "code",
   "execution_count": 15,
   "id": "7db628f8",
   "metadata": {},
   "outputs": [],
   "source": [
    "a.sort(reverse=True)"
   ]
  },
  {
   "cell_type": "code",
   "execution_count": 16,
   "id": "8a5c158f",
   "metadata": {},
   "outputs": [
    {
     "data": {
      "text/plain": [
       "[89, 88, 78, 76, 45]"
      ]
     },
     "execution_count": 16,
     "metadata": {},
     "output_type": "execute_result"
    }
   ],
   "source": [
    "a"
   ]
  },
  {
   "cell_type": "code",
   "execution_count": 17,
   "id": "e2eb8286",
   "metadata": {},
   "outputs": [
    {
     "data": {
      "text/plain": [
       "0"
      ]
     },
     "execution_count": 17,
     "metadata": {},
     "output_type": "execute_result"
    }
   ],
   "source": [
    "#pop\n",
    "x.pop()"
   ]
  },
  {
   "cell_type": "code",
   "execution_count": 18,
   "id": "06f6df6d",
   "metadata": {},
   "outputs": [],
   "source": [
    "x[2]=33"
   ]
  },
  {
   "cell_type": "code",
   "execution_count": 19,
   "id": "7644d9fd",
   "metadata": {},
   "outputs": [
    {
     "data": {
      "text/plain": [
       "[45, 100, 33, 'python', 67, 45, 34]"
      ]
     },
     "execution_count": 19,
     "metadata": {},
     "output_type": "execute_result"
    }
   ],
   "source": [
    "x"
   ]
  },
  {
   "cell_type": "code",
   "execution_count": null,
   "id": "9badc00a",
   "metadata": {},
   "outputs": [],
   "source": []
  }
 ],
 "metadata": {
  "kernelspec": {
   "display_name": "Python 3 (ipykernel)",
   "language": "python",
   "name": "python3"
  },
  "language_info": {
   "codemirror_mode": {
    "name": "ipython",
    "version": 3
   },
   "file_extension": ".py",
   "mimetype": "text/x-python",
   "name": "python",
   "nbconvert_exporter": "python",
   "pygments_lexer": "ipython3",
   "version": "3.9.12"
  }
 },
 "nbformat": 4,
 "nbformat_minor": 5
}
