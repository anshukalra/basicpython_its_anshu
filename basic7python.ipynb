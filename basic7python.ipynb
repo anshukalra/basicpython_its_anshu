{
 "cells": [
  {
   "cell_type": "code",
   "execution_count": 6,
   "id": "18fb6066",
   "metadata": {},
   "outputs": [
    {
     "name": "stdout",
     "output_type": "stream",
     "text": [
      "enter the number of service10\n",
      "enter the salary45000\n",
      "totalsalary= 47250.0\n"
     ]
    }
   ],
   "source": [
    "service=int(input(\"enter the number of service\"))\n",
    "salary=int(input(\"enter the salary\"))\n",
    "if service>5:\n",
    "    bouns=(salary*5)/100\n",
    "    totalsalary=salary+bouns\n",
    "    print(\"totalsalary=\",totalsalary)\n",
    "else:\n",
    "    print(\"no bouns\")"
   ]
  },
  {
   "cell_type": "code",
   "execution_count": 1,
   "id": "26a243df",
   "metadata": {},
   "outputs": [
    {
     "name": "stdout",
     "output_type": "stream",
     "text": [
      "not square\n"
     ]
    }
   ],
   "source": [
    "l=2\n",
    "b=4\n",
    "a=4\n",
    "area_of_square=a**2\n",
    "area_of_rectangle=l*b\n",
    "if area_of_rectangle == area_of_square:\n",
    "    print(\"square\")\n",
    "else:\n",
    "    print(\"not square\")"
   ]
  },
  {
   "cell_type": "code",
   "execution_count": 2,
   "id": "576cad1d",
   "metadata": {},
   "outputs": [
    {
     "name": "stdout",
     "output_type": "stream",
     "text": [
      "greater number 7\n"
     ]
    }
   ],
   "source": [
    "a=5\n",
    "b=7\n",
    "if a>b:\n",
    "    print(\"greater number\",a)\n",
    "else:\n",
    "    print(\"greater number\",b)\n",
    "    "
   ]
  },
  {
   "cell_type": "code",
   "execution_count": 6,
   "id": "b8827854",
   "metadata": {},
   "outputs": [
    {
     "name": "stdout",
     "output_type": "stream",
     "text": [
      "small number 77\n"
     ]
    }
   ],
   "source": [
    "x=98\n",
    "y=77\n",
    "z=99\n",
    "if x<y and x<z :\n",
    "    print(\"small number\",x)\n",
    "elif y<z and y<x:\n",
    "    print(\"small number\",y)\n",
    "else:\n",
    "    print(\"small number\",z)"
   ]
  },
  {
   "cell_type": "code",
   "execution_count": null,
   "id": "55d3a990",
   "metadata": {},
   "outputs": [],
   "source": [
    "quantity= int(input(\"enter the quantity of price\"))\n",
    "if quantity>1000:\n",
    "    discount=(quantity*10)/100\n",
    "    totalamount=quantity-discount\n",
    "    print(\"totalamount\",totalamount)\n",
    "else:\n",
    "    print(\"no discount\")\n",
    "    "
   ]
  },
  {
   "cell_type": "code",
   "execution_count": 7,
   "id": "a739106b",
   "metadata": {},
   "outputs": [
    {
     "name": "stdout",
     "output_type": "stream",
     "text": [
      "enter marks89\n",
      "A\n"
     ]
    }
   ],
   "source": [
    "marks=int(input(\"enter marks\"))\n",
    "if  marks>80:\n",
    "    print(\"A\")\n",
    "elif marks>60 and marks<=80:\n",
    "    print(\"B\")\n",
    "elif marks>50 and marks<=60:\n",
    "    print(\"C\")\n",
    "elif marks>45 and marks<=50:\n",
    "    print(\"D\")\n",
    "elif marks>=25 and marks<=45:\n",
    "    print(\"E\")\n",
    "elif marks<25:\n",
    "    print(\"A\")"
   ]
  },
  {
   "cell_type": "code",
   "execution_count": 8,
   "id": "e409934f",
   "metadata": {},
   "outputs": [
    {
     "name": "stdout",
     "output_type": "stream",
     "text": [
      "enter the number of class attended56\n",
      "enter the number of class held100\n",
      "percentage\n",
      "not allowed in exam\n"
     ]
    }
   ],
   "source": [
    "attended=int(input(\"enter the number of class attended\"))\n",
    "held=int(input(\"enter the number of class held\"))\n",
    "percentage=(attended*100)/held\n",
    "print(\"percentage\")\n",
    "if percentage>75:\n",
    "    print(\"sit in exam\")\n",
    "else:\n",
    "    print(\"not allowed in exam\")"
   ]
  },
  {
   "cell_type": "code",
   "execution_count": null,
   "id": "d0e0ff25",
   "metadata": {},
   "outputs": [],
   "source": []
  }
 ],
 "metadata": {
  "kernelspec": {
   "display_name": "Python 3 (ipykernel)",
   "language": "python",
   "name": "python3"
  },
  "language_info": {
   "codemirror_mode": {
    "name": "ipython",
    "version": 3
   },
   "file_extension": ".py",
   "mimetype": "text/x-python",
   "name": "python",
   "nbconvert_exporter": "python",
   "pygments_lexer": "ipython3",
   "version": "3.9.12"
  }
 },
 "nbformat": 4,
 "nbformat_minor": 5
}
