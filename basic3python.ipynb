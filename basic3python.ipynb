{
 "cells": [
  {
   "cell_type": "code",
   "execution_count": 1,
   "id": "6cfe2187",
   "metadata": {},
   "outputs": [
    {
     "name": "stdout",
     "output_type": "stream",
     "text": [
      "Enter something!!anshika\n",
      "anshika\n"
     ]
    }
   ],
   "source": [
    "# user input----->\n",
    "#synyx---->input(\"msg\")\n",
    "#               operation\n",
    "\n",
    "x=input(\"Enter something!!\")\n",
    "print(x)"
   ]
  },
  {
   "cell_type": "code",
   "execution_count": 2,
   "id": "7a5e660e",
   "metadata": {},
   "outputs": [
    {
     "name": "stdout",
     "output_type": "stream",
     "text": [
      "Enter the first num5\n",
      "Enter the second num4\n",
      "9\n"
     ]
    }
   ],
   "source": [
    "#wap to add two number using user input.\n",
    "a= int(input(\"Enter the first num\"))\n",
    "b= int(input(\"Enter the second num\"))\n",
    "c=a+b\n",
    "print(c)"
   ]
  },
  {
   "cell_type": "code",
   "execution_count": 3,
   "id": "62675a85",
   "metadata": {},
   "outputs": [
    {
     "name": "stdout",
     "output_type": "stream",
     "text": [
      "Enter the first num4\n",
      "Enter the second num7\n",
      "11.0\n"
     ]
    }
   ],
   "source": [
    "a= float(input(\"Enter the first num\"))\n",
    "b= int(input(\"Enter the second num\"))\n",
    "c=a+b\n",
    "print(c)"
   ]
  },
  {
   "cell_type": "code",
   "execution_count": 4,
   "id": "ea790e8c",
   "metadata": {},
   "outputs": [
    {
     "name": "stdout",
     "output_type": "stream",
     "text": [
      "enter the marks of 1 subject54\n",
      "enter the marks of 2 subject56\n",
      "enter the marks of 3 subject59\n",
      "enter the marks of 4 subject53\n",
      "enter the mark of 5 subject52\n",
      "54.8\n"
     ]
    }
   ],
   "source": [
    "#wap to find the avg of a student in 5 subjects?\n",
    "a=int(input(\"enter the marks of 1 subject\"))\n",
    "b=int(input(\"enter the marks of 2 subject\"))\n",
    "c=int(input(\"enter the marks of 3 subject\"))\n",
    "d=int(input(\"enter the marks of 4 subject\"))\n",
    "e=int(input(\"enter the mark of 5 subject\"))\n",
    "avg=(a+b+c+d+e)/5\n",
    "print(avg)"
   ]
  },
  {
   "cell_type": "code",
   "execution_count": 7,
   "id": "3a9c5a77",
   "metadata": {},
   "outputs": [
    {
     "name": "stdout",
     "output_type": "stream",
     "text": [
      "you can vote\n"
     ]
    }
   ],
   "source": [
    "#condition\n",
    "#syntax--->\n",
    "#if condition:\n",
    "#    print the msg\n",
    "#else:\n",
    "#    print the msg   \n",
    "age=19\n",
    "if age>18:\n",
    "    print (\"you can vote\")\n",
    "    "
   ]
  },
  {
   "cell_type": "code",
   "execution_count": 10,
   "id": "18b89ac6",
   "metadata": {},
   "outputs": [
    {
     "name": "stdout",
     "output_type": "stream",
     "text": [
      "no vote\n"
     ]
    }
   ],
   "source": [
    "age=15\n",
    "if age>18:\n",
    "    print(\"you can vote\")\n",
    "else:\n",
    "        print (\"no vote\")"
   ]
  },
  {
   "cell_type": "code",
   "execution_count": 13,
   "id": "db052e49",
   "metadata": {},
   "outputs": [
    {
     "name": "stdout",
     "output_type": "stream",
     "text": [
      "first time voter\n"
     ]
    }
   ],
   "source": [
    "age=18\n",
    "if age>18:\n",
    "    print(\"you can vote\")\n",
    "elif age ==18:\n",
    "    print(\"first time voter\")\n",
    "else:\n",
    "     print (\"no vote\")"
   ]
  },
  {
   "cell_type": "code",
   "execution_count": 19,
   "id": "bb971b13",
   "metadata": {},
   "outputs": [],
   "source": [
    "#wap to find the odd and even number.\n",
    "#wap to find a individual is a child or adult.\n",
    "\n",
    "#wap to find the if it is rainy outside or not.\n",
    "#condition is if temp is 20 degree then it it rainy.\n",
    "\n",
    "#wap to print holiday if the is sunday otherwise\n",
    "#print boring day\n"
   ]
  },
  {
   "cell_type": "code",
   "execution_count": 20,
   "id": "22f92c1d",
   "metadata": {},
   "outputs": [
    {
     "name": "stdout",
     "output_type": "stream",
     "text": [
      "odd\n"
     ]
    }
   ],
   "source": [
    "a=67\n",
    "if a%2==0:\n",
    "    print(\"even\")\n",
    "else:\n",
    "    print(\"odd\")"
   ]
  },
  {
   "cell_type": "code",
   "execution_count": 21,
   "id": "0c56e30a",
   "metadata": {},
   "outputs": [
    {
     "name": "stdout",
     "output_type": "stream",
     "text": [
      "odd\n"
     ]
    }
   ],
   "source": [
    "a=67\n",
    "if a%2 !=0:\n",
    "    print(\"odd\")\n",
    "else:\n",
    "    print(\"even\")"
   ]
  },
  {
   "cell_type": "code",
   "execution_count": 23,
   "id": "1f40d840",
   "metadata": {},
   "outputs": [
    {
     "name": "stdout",
     "output_type": "stream",
     "text": [
      "enter the age34\n",
      "adult\n"
     ]
    }
   ],
   "source": [
    "age=int(input(\"enter the age\"))\n",
    "if age>18:\n",
    "    print(\"adult\")\n",
    "else:\n",
    "        print (\"child\")"
   ]
  },
  {
   "cell_type": "code",
   "execution_count": 24,
   "id": "a34b0edd",
   "metadata": {},
   "outputs": [
    {
     "name": "stdout",
     "output_type": "stream",
     "text": [
      "rainy\n"
     ]
    }
   ],
   "source": [
    "temp=20\n",
    "if temp==20:\n",
    "    print(\"rainy\")\n"
   ]
  },
  {
   "cell_type": "code",
   "execution_count": 27,
   "id": "b4260ce6",
   "metadata": {},
   "outputs": [
    {
     "name": "stdout",
     "output_type": "stream",
     "text": [
      "enter the daysunday\n",
      "holiday\n"
     ]
    }
   ],
   "source": [
    "day= input(\"enter the day\")\n",
    "if day==\"sunday\":\n",
    "    print(\"holiday\")\n",
    "else:\n",
    "    print(\"boring day\")"
   ]
  },
  {
   "cell_type": "code",
   "execution_count": null,
   "id": "52d6e11f",
   "metadata": {},
   "outputs": [],
   "source": []
  }
 ],
 "metadata": {
  "kernelspec": {
   "display_name": "Python 3 (ipykernel)",
   "language": "python",
   "name": "python3"
  },
  "language_info": {
   "codemirror_mode": {
    "name": "ipython",
    "version": 3
   },
   "file_extension": ".py",
   "mimetype": "text/x-python",
   "name": "python",
   "nbconvert_exporter": "python",
   "pygments_lexer": "ipython3",
   "version": "3.9.12"
  }
 },
 "nbformat": 4,
 "nbformat_minor": 5
}
